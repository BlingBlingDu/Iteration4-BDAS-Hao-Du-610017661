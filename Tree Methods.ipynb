{
 "cells": [
  {
   "cell_type": "code",
   "execution_count": 1,
   "metadata": {},
   "outputs": [],
   "source": [
    "import findspark\n",
    "findspark.init('/home/ubuntu/spark-2.1.1-bin-hadoop2.7')\n",
    "import pyspark\n",
    "from pyspark.sql import SparkSession\n",
    "spark = SparkSession.builder.appName('tree_methods_adv').getOrCreate()"
   ]
  },
  {
   "cell_type": "code",
   "execution_count": 2,
   "metadata": {},
   "outputs": [],
   "source": [
    "data = spark.read.csv('crime.csv',inferSchema=True,header=True)"
   ]
  },
  {
   "cell_type": "code",
   "execution_count": 3,
   "metadata": {},
   "outputs": [
    {
     "data": {
      "text/plain": [
       "['INCIDENT_NUMBER',\n",
       " 'OFFENSE_CODE',\n",
       " 'OFFENSE_CODE_GROUP',\n",
       " 'OFFENSE_DESCRIPTION',\n",
       " 'DISTRICT',\n",
       " 'REPORTING_AREA',\n",
       " 'YEAR',\n",
       " 'MONTH',\n",
       " 'DAY_OF_WEEK',\n",
       " 'HOUR',\n",
       " 'UCR_PART',\n",
       " 'STREET']"
      ]
     },
     "execution_count": 3,
     "metadata": {},
     "output_type": "execute_result"
    }
   ],
   "source": [
    "data.columns"
   ]
  },
  {
   "cell_type": "code",
   "execution_count": 4,
   "metadata": {},
   "outputs": [],
   "source": [
    "my_cols = data.select(['OFFENSE_CODE_GROUP' ,\n",
    "             'DISTRICT',\n",
    "             'MONTH',\n",
    "             'DAY_OF_WEEK',\n",
    "             'HOUR'])"
   ]
  },
  {
   "cell_type": "code",
   "execution_count": 5,
   "metadata": {},
   "outputs": [],
   "source": [
    "my_final_data = my_cols.na.drop()"
   ]
  },
  {
   "cell_type": "code",
   "execution_count": 6,
   "metadata": {},
   "outputs": [],
   "source": [
    "from pyspark.ml.feature import (VectorAssembler,VectorIndexer,\n",
    "                                OneHotEncoder,StringIndexer)"
   ]
  },
  {
   "cell_type": "code",
   "execution_count": 7,
   "metadata": {},
   "outputs": [],
   "source": [
    "OFFENSE_indexer = StringIndexer(inputCol='OFFENSE_CODE_GROUP',outputCol='OFFENSEIndex')\n",
    "OFFENSE_encoder = OneHotEncoder(inputCol='OFFENSEIndex',outputCol='OFFENSEVec')"
   ]
  },
  {
   "cell_type": "code",
   "execution_count": 8,
   "metadata": {},
   "outputs": [],
   "source": [
    "WEEK_indexer = StringIndexer(inputCol='DAY_OF_WEEK',outputCol='WEEKIndex')\n",
    "WEEK_encoder = OneHotEncoder(inputCol='WEEKIndex',outputCol='WEEKVec')"
   ]
  },
  {
   "cell_type": "code",
   "execution_count": 9,
   "metadata": {},
   "outputs": [],
   "source": [
    "DIS_indexer = StringIndexer(inputCol='DISTRICT',outputCol='DISIndex')\n",
    "DIS_encoder = OneHotEncoder(inputCol='DISIndex',outputCol='DISVec')"
   ]
  },
  {
   "cell_type": "code",
   "execution_count": 10,
   "metadata": {},
   "outputs": [],
   "source": [
    "assembler = VectorAssembler(inputCols=['OFFENSEVec',\n",
    " 'WEEKVec',\n",
    " 'DISVec',\n",
    " 'HOUR',\n",
    " 'MONTH'],outputCol='features')"
   ]
  },
  {
   "cell_type": "code",
   "execution_count": 11,
   "metadata": {},
   "outputs": [],
   "source": [
    "from pyspark.ml import Pipeline\n",
    "from pyspark.ml.classification import DecisionTreeClassifier,GBTClassifier,RandomForestClassifier"
   ]
  },
  {
   "cell_type": "code",
   "execution_count": 12,
   "metadata": {},
   "outputs": [],
   "source": [
    "rfc = RandomForestClassifier(labelCol='HOUR',featuresCol='features')"
   ]
  },
  {
   "cell_type": "code",
   "execution_count": 13,
   "metadata": {},
   "outputs": [],
   "source": [
    "pipeline = Pipeline(stages=[OFFENSE_indexer,WEEK_indexer,DIS_indexer,\n",
    "                           OFFENSE_encoder,WEEK_encoder,DIS_encoder,\n",
    "                           assembler,rfc])"
   ]
  },
  {
   "cell_type": "code",
   "execution_count": 14,
   "metadata": {},
   "outputs": [],
   "source": [
    "train_data, test_data = my_final_data.randomSplit([0.7,0.3])"
   ]
  },
  {
   "cell_type": "code",
   "execution_count": 15,
   "metadata": {},
   "outputs": [],
   "source": [
    "fit_model = pipeline.fit(train_data)"
   ]
  },
  {
   "cell_type": "code",
   "execution_count": 16,
   "metadata": {},
   "outputs": [],
   "source": [
    "rfc_predictions = fit_model.transform(test_data)"
   ]
  },
  {
   "cell_type": "code",
   "execution_count": 17,
   "metadata": {
    "scrolled": true
   },
   "outputs": [
    {
     "name": "stdout",
     "output_type": "stream",
     "text": [
      "+------------------+--------+-----+-----------+----+------------+---------+--------+---------------+-------------+--------------+--------------------+--------------------+--------------------+----------+\n",
      "|OFFENSE_CODE_GROUP|DISTRICT|MONTH|DAY_OF_WEEK|HOUR|OFFENSEIndex|WEEKIndex|DISIndex|     OFFENSEVec|      WEEKVec|        DISVec|            features|       rawPrediction|         probability|prediction|\n",
      "+------------------+--------+-----+-----------+----+------------+---------+--------+---------------+-------------+--------------+--------------------+--------------------+--------------------+----------+\n",
      "|Aggravated Assault|      A1|    1|     Friday|   9|        13.0|      0.0|     3.0|(63,[13],[1.0])|(6,[0],[1.0])|(11,[3],[1.0])|(82,[13,63,72,80,...|[1.19983643231961...|[0.05999182161598...|      12.0|\n",
      "|Aggravated Assault|      A1|    1|   Saturday|   0|        13.0|      4.0|     3.0|(63,[13],[1.0])|(6,[4],[1.0])|(11,[3],[1.0])|(82,[13,67,72,81]...|[3.25748377744324...|[0.16287418887216...|       0.0|\n",
      "|Aggravated Assault|      A1|    1|     Sunday|   1|        13.0|      6.0|     3.0|(63,[13],[1.0])|    (6,[],[])|(11,[3],[1.0])|(82,[13,72,80,81]...|[1.19983643231961...|[0.05999182161598...|      12.0|\n",
      "|Aggravated Assault|      A1|    1|     Sunday|  16|        13.0|      6.0|     3.0|(63,[13],[1.0])|    (6,[],[])|(11,[3],[1.0])|(82,[13,72,80,81]...|[0.78662409335097...|[0.03933120466754...|      16.0|\n",
      "|Aggravated Assault|      A1|    1|     Sunday|  21|        13.0|      6.0|     3.0|(63,[13],[1.0])|    (6,[],[])|(11,[3],[1.0])|(82,[13,72,80,81]...|[0.63772782601521...|[0.03188639130076...|      21.0|\n",
      "|Aggravated Assault|      A1|    1|    Tuesday|   6|        13.0|      2.0|     3.0|(63,[13],[1.0])|(6,[2],[1.0])|(11,[3],[1.0])|(82,[13,65,72,80,...|[1.13800592148883...|[0.05690029607444...|      12.0|\n",
      "|Aggravated Assault|      A1|    1|  Wednesday|  19|        13.0|      3.0|     3.0|(63,[13],[1.0])|(6,[3],[1.0])|(11,[3],[1.0])|(82,[13,66,72,80,...|[0.63772782601521...|[0.03188639130076...|      19.0|\n",
      "|Aggravated Assault|      A1|    2|   Saturday|   0|        13.0|      4.0|     3.0|(63,[13],[1.0])|(6,[4],[1.0])|(11,[3],[1.0])|(82,[13,67,72,81]...|[3.25748377744324...|[0.16287418887216...|       0.0|\n",
      "|Aggravated Assault|      A1|    2|     Sunday|   1|        13.0|      6.0|     3.0|(63,[13],[1.0])|    (6,[],[])|(11,[3],[1.0])|(82,[13,72,80,81]...|[1.19983643231961...|[0.05999182161598...|      12.0|\n",
      "|Aggravated Assault|      A1|    2|     Sunday|   2|        13.0|      6.0|     3.0|(63,[13],[1.0])|    (6,[],[])|(11,[3],[1.0])|(82,[13,72,80,81]...|[1.19983643231961...|[0.05999182161598...|      12.0|\n",
      "|Aggravated Assault|      A1|    2|     Sunday|   2|        13.0|      6.0|     3.0|(63,[13],[1.0])|    (6,[],[])|(11,[3],[1.0])|(82,[13,72,80,81]...|[1.19983643231961...|[0.05999182161598...|      12.0|\n",
      "|Aggravated Assault|      A1|    2|     Sunday|   2|        13.0|      6.0|     3.0|(63,[13],[1.0])|    (6,[],[])|(11,[3],[1.0])|(82,[13,72,80,81]...|[1.19983643231961...|[0.05999182161598...|      12.0|\n",
      "|Aggravated Assault|      A1|    2|     Sunday|  13|        13.0|      6.0|     3.0|(63,[13],[1.0])|    (6,[],[])|(11,[3],[1.0])|(82,[13,72,80,81]...|[1.19983643231961...|[0.05999182161598...|      12.0|\n",
      "|Aggravated Assault|      A1|    2|   Thursday|  21|        13.0|      1.0|     3.0|(63,[13],[1.0])|(6,[1],[1.0])|(11,[3],[1.0])|(82,[13,64,72,80,...|[0.63772782601521...|[0.03188639130076...|      21.0|\n",
      "|Aggravated Assault|      A1|    3|     Friday|  12|        13.0|      0.0|     3.0|(63,[13],[1.0])|(6,[0],[1.0])|(11,[3],[1.0])|(82,[13,63,72,80,...|[1.19983643231961...|[0.05999182161598...|      12.0|\n",
      "|Aggravated Assault|      A1|    3|     Friday|  12|        13.0|      0.0|     3.0|(63,[13],[1.0])|(6,[0],[1.0])|(11,[3],[1.0])|(82,[13,63,72,80,...|[1.19983643231961...|[0.05999182161598...|      12.0|\n",
      "|Aggravated Assault|      A1|    3|   Saturday|   1|        13.0|      4.0|     3.0|(63,[13],[1.0])|(6,[4],[1.0])|(11,[3],[1.0])|(82,[13,67,72,80,...|[1.25748377744324...|[0.06287418887216...|      12.0|\n",
      "|Aggravated Assault|      A1|    3|   Saturday|   2|        13.0|      4.0|     3.0|(63,[13],[1.0])|(6,[4],[1.0])|(11,[3],[1.0])|(82,[13,67,72,80,...|[1.25748377744324...|[0.06287418887216...|      12.0|\n",
      "|Aggravated Assault|      A1|    3|     Sunday|  17|        13.0|      6.0|     3.0|(63,[13],[1.0])|    (6,[],[])|(11,[3],[1.0])|(82,[13,72,80,81]...|[0.63772782601521...|[0.03188639130076...|      17.0|\n",
      "|Aggravated Assault|      A1|    3|    Tuesday|   5|        13.0|      2.0|     3.0|(63,[13],[1.0])|(6,[2],[1.0])|(11,[3],[1.0])|(82,[13,65,72,80,...|[1.13800592148883...|[0.05690029607444...|      12.0|\n",
      "+------------------+--------+-----+-----------+----+------------+---------+--------+---------------+-------------+--------------+--------------------+--------------------+--------------------+----------+\n",
      "only showing top 20 rows\n",
      "\n"
     ]
    }
   ],
   "source": [
    "rfc_predictions.show()"
   ]
  },
  {
   "cell_type": "code",
   "execution_count": 18,
   "metadata": {},
   "outputs": [],
   "source": [
    "from pyspark.ml.evaluation import MulticlassClassificationEvaluator"
   ]
  },
  {
   "cell_type": "code",
   "execution_count": 19,
   "metadata": {},
   "outputs": [],
   "source": [
    "acc_evaluator = MulticlassClassificationEvaluator(labelCol=\"HOUR\", predictionCol=\"prediction\", metricName=\"accuracy\")"
   ]
  },
  {
   "cell_type": "code",
   "execution_count": 20,
   "metadata": {},
   "outputs": [],
   "source": [
    "rfc_acc = acc_evaluator.evaluate(rfc_predictions)"
   ]
  },
  {
   "cell_type": "code",
   "execution_count": 21,
   "metadata": {},
   "outputs": [
    {
     "name": "stdout",
     "output_type": "stream",
     "text": [
      "A random forest ensemble has an accuracy of: 36.30%\n"
     ]
    }
   ],
   "source": [
    "print('A random forest ensemble has an accuracy of: {0:2.2f}%'.format(rfc_acc*100))"
   ]
  }
 ],
 "metadata": {
  "kernelspec": {
   "display_name": "Python 3",
   "language": "python",
   "name": "python3"
  },
  "language_info": {
   "codemirror_mode": {
    "name": "ipython",
    "version": 3
   },
   "file_extension": ".py",
   "mimetype": "text/x-python",
   "name": "python",
   "nbconvert_exporter": "python",
   "pygments_lexer": "ipython3",
   "version": "3.5.2"
  }
 },
 "nbformat": 4,
 "nbformat_minor": 2
}
